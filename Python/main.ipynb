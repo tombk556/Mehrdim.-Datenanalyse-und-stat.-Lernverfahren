{
 "cells": [
  {
   "cell_type": "code",
   "execution_count": 23,
   "metadata": {},
   "outputs": [
    {
     "data": {
      "text/plain": [
       "(127.18386141042825, -152.1681983733088, 'y = 127.18x + -152.17')"
      ]
     },
     "execution_count": 23,
     "metadata": {},
     "output_type": "execute_result"
    }
   ],
   "source": [
    "from sklearn.linear_model import LinearRegression\n",
    "import numpy as np\n",
    "\n",
    "# Data\n",
    "data = [(1.55, 51),\n",
    "        (1.57, 50),\n",
    "        (1.62, 55),\n",
    "        (1.68, 52),\n",
    "        (1.75, 60),\n",
    "        (1.75, 68),\n",
    "        (1.81, 78),\n",
    "        (1.83, 91),\n",
    "        (1.87, 84),\n",
    "        (1.89, 81),\n",
    "        (1.9, 90),\n",
    "        (1.92, 105),\n",
    "        (1.95, 95),\n",
    "        (1.95, 99),\n",
    "        (1.99, 100),\n",
    "        (2.02, 101)]\n",
    "x, y = zip(*data)\n",
    "\n",
    "# Reshaping data for the model\n",
    "X = np.array(x).reshape(-1, 1)\n",
    "y = np.array(y)\n",
    "\n",
    "# Create and fit the model\n",
    "model = LinearRegression().fit(X, y)\n",
    "\n",
    "# Get the coefficient and intercept of the line\n",
    "slope = model.coef_[0]\n",
    "intercept = model.intercept_\n",
    "\n",
    "# Equation of the line\n",
    "equation = f\"y = {slope:.2f}x + {intercept:.2f}\"\n",
    "\n",
    "slope, intercept, equation"
   ]
  },
  {
   "cell_type": "markdown",
   "metadata": {},
   "source": [
    "### LRM aus der Vorlesung "
   ]
  },
  {
   "cell_type": "code",
   "execution_count": 5,
   "metadata": {},
   "outputs": [],
   "source": [
    "import matplotlib.pyplot as plt\n",
    "import numpy as np"
   ]
  },
  {
   "cell_type": "code",
   "execution_count": 122,
   "metadata": {},
   "outputs": [],
   "source": [
    "def variance(data):\n",
    "    sum = 0\n",
    "    mean = np.mean(data)\n",
    "    for i in range(len(data)):\n",
    "        sum += (data[i] - mean)**2\n",
    "    return sum / (len(data) - 1)\n",
    "\n",
    "def lrm(a, b, x):\n",
    "    return a + b * x\n",
    "\n",
    "def residuals(y, x, a, b):\n",
    "    res = []\n",
    "    for i in range(len(y)):\n",
    "        res.append(y[i] - lrm(a, b, x[i]))\n",
    "    return res\n",
    "\n",
    "def residuals_var(y, x, a, b):\n",
    "    res = []\n",
    "    for i in range(len(y)):\n",
    "        res.append((y[i] - lrm(a, b, x[i]))**2)\n",
    "    return sum(res) / (len(y) - 2)\n",
    "\n",
    "def s_alpha2(x, var_x, var_residuals):\n",
    "    return ((1 / len(x)) + (np.mean(x)**2) / ((len(x) - 1) * var_x)) * var_residuals\n",
    "\n",
    "def s_beta2(x, var_x, var_residuals):\n",
    "    return (1 / ((len(x) - 1) * var_x)) * var_residuals"
   ]
  },
  {
   "cell_type": "code",
   "execution_count": 42,
   "metadata": {},
   "outputs": [
    {
     "name": "stdout",
     "output_type": "stream",
     "text": [
      "x_mean: 5.2, y_mean: 4.140000000000001, x_var: 9.2, y_var: 5.6530000000000005, s_xy: 6.890000000000001\n",
      "alpha: 0.24565217391304284, beta: 0.748913043478261 \n",
      "\n",
      "y = 0.25 + 0.75x\n"
     ]
    }
   ],
   "source": [
    "xi = [1, 4, 5, 7, 9]\n",
    "yi = [1.0, 3.1, 4.7, 4.4, 7.5]\n",
    "\n",
    "x_mean = np.mean(xi)\n",
    "y_mean = np.mean(yi)\n",
    "x_var = variance(xi)\n",
    "y_var = variance(yi)\n",
    "s_xy = np.cov(xi, yi)[1][0]\n",
    "\n",
    "# alpha, beta, sigma\n",
    "beta = s_xy / x_var\n",
    "alpha = y_mean - beta * x_mean\n",
    "\n",
    "print(f\"x_mean: {x_mean}, y_mean: {y_mean}, x_var: {x_var}, y_var: {y_var}, s_xy: {s_xy}\")\n",
    "print(f\"alpha: {alpha}, beta: {beta} \\n\")\n",
    "print(f\"y = {alpha:.2f} + {beta:.2f}x\")"
   ]
  },
  {
   "cell_type": "code",
   "execution_count": 43,
   "metadata": {},
   "outputs": [],
   "source": [
    "Y = [lrm(alpha, beta, x) for x in np.linspace(0, 10, 100)]"
   ]
  },
  {
   "cell_type": "code",
   "execution_count": 49,
   "metadata": {},
   "outputs": [
    {
     "data": {
      "image/png": "[encoded data removed]",
      "text/plain": [
       "<Figure size 640x480 with 1 Axes>"
      ]
     },
     "metadata": {},
     "output_type": "display_data"
    }
   ],
   "source": [
    "plt.plot(xi, yi, 'ro')\n",
    "plt.plot(np.linspace(0, 10, 100), Y, 'b')\n",
    "plt.legend(['Data', 'Linear Regression'])\n",
    "plt.title('Linear Regression')\n",
    "plt.grid()\n",
    "plt.show()"
   ]
  },
  {
   "cell_type": "code",
   "execution_count": 123,
   "metadata": {},
   "outputs": [
    {
     "name": "stdout",
     "output_type": "stream",
     "text": [
      "alpha: 0.24565217391304284, s_alpha: 0.6144502205419031, I_alpha: [-2.248931742816872, 2.7402360906429575]\n"
     ]
    }
   ],
   "source": [
    "t3_975 = 3.1824 # error 0.05\n",
    "s_alpha =  s_alpha2(xi, x_var, residuals_var(yi, xi, alpha, beta))\n",
    "I_alpha = [alpha - t3_975 * s_alpha**0.5, alpha + t3_975 * s_alpha**0.5]\n",
    "print(f\"alpha: {alpha}, s_alpha: {s_alpha}, I_alpha: {I_alpha}\")"
   ]
  },
  {
   "cell_type": "code",
   "execution_count": 117,
   "metadata": {},
   "outputs": [
    {
     "name": "stdout",
     "output_type": "stream",
     "text": [
      "0.682986452425961\n"
     ]
    }
   ],
   "source": []
  }
 ],
 "metadata": {
  "kernelspec": {
   "display_name": "Python 3",
   "language": "python",
   "name": "python3"
  },
  "language_info": {
   "codemirror_mode": {
    "name": "ipython",
    "version": 3
   },
   "file_extension": ".py",
   "mimetype": "text/x-python",
   "name": "python",
   "nbconvert_exporter": "python",
   "pygments_lexer": "ipython3",
   "version": "3.11.7"
  }
 },
 "nbformat": 4,
 "nbformat_minor": 2
}
