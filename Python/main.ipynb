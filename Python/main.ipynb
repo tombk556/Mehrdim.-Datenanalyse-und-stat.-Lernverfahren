{
 "cells": [
  {
   "cell_type": "code",
   "execution_count": 23,
   "metadata": {},
   "outputs": [
    {
     "data": {
      "text/plain": [
       "(127.18386141042825, -152.1681983733088, 'y = 127.18x + -152.17')"
      ]
     },
     "execution_count": 23,
     "metadata": {},
     "output_type": "execute_result"
    }
   ],
   "source": [
    "from sklearn.linear_model import LinearRegression\n",
    "import numpy as np\n",
    "\n",
    "# Data\n",
    "data = [(1.55, 51),\n",
    "        (1.57, 50),\n",
    "        (1.62, 55),\n",
    "        (1.68, 52),\n",
    "        (1.75, 60),\n",
    "        (1.75, 68),\n",
    "        (1.81, 78),\n",
    "        (1.83, 91),\n",
    "        (1.87, 84),\n",
    "        (1.89, 81),\n",
    "        (1.9, 90),\n",
    "        (1.92, 105),\n",
    "        (1.95, 95),\n",
    "        (1.95, 99),\n",
    "        (1.99, 100),\n",
    "        (2.02, 101)]\n",
    "x, y = zip(*data)\n",
    "\n",
    "# Reshaping data for the model\n",
    "X = np.array(x).reshape(-1, 1)\n",
    "y = np.array(y)\n",
    "\n",
    "# Create and fit the model\n",
    "model = LinearRegression().fit(X, y)\n",
    "\n",
    "# Get the coefficient and intercept of the line\n",
    "slope = model.coef_[0]\n",
    "intercept = model.intercept_\n",
    "\n",
    "# Equation of the line\n",
    "equation = f\"y = {slope:.2f}x + {intercept:.2f}\"\n",
    "\n",
    "slope, intercept, equation"
   ]
  }
 ],
 "metadata": {
  "kernelspec": {
   "display_name": "Python 3",
   "language": "python",
   "name": "python3"
  },
  "language_info": {
   "codemirror_mode": {
    "name": "ipython",
    "version": 3
   },
   "file_extension": ".py",
   "mimetype": "text/x-python",
   "name": "python",
   "nbconvert_exporter": "python",
   "pygments_lexer": "ipython3",
   "version": "3.9.12"
  }
 },
 "nbformat": 4,
 "nbformat_minor": 2
}
