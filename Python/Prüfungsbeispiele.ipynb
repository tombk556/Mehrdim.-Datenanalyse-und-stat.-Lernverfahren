{
 "cells": [
  {
   "cell_type": "code",
   "execution_count": 1,
   "metadata": {},
   "outputs": [],
   "source": [
    "import numpy as np\n",
    "import statsmodels.api as sm\n",
    "import matplotlib.pyplot as plt"
   ]
  },
  {
   "cell_type": "markdown",
   "metadata": {},
   "source": [
    "## (einfache) Lineare Regression"
   ]
  },
  {
   "cell_type": "code",
   "execution_count": 2,
   "metadata": {},
   "outputs": [],
   "source": [
    "xi = [1, 4, 5, 7, 9]\n",
    "yi = [1.0, 3.1, 4.7, 4.4, 7.5]\n"
   ]
  },
  {
   "cell_type": "code",
   "execution_count": 3,
   "metadata": {},
   "outputs": [],
   "source": [
    "def variance(data):\n",
    "    sum = 0\n",
    "    mean = np.mean(data)\n",
    "    for i in range(len(data)):\n",
    "        sum += (data[i] - mean)**2\n",
    "    return sum / (len(data) - 1)\n",
    "\n",
    "def lrm(a, b, x):\n",
    "    return a + b * x\n",
    "\n",
    "def residuals(y, x, a, b):\n",
    "    res = []\n",
    "    for i in range(len(y)):\n",
    "        res.append(y[i] - lrm(a, b, x[i]))\n",
    "    return res\n",
    "\n",
    "def residuals_var(y, x, a, b):\n",
    "    res = []\n",
    "    for i in range(len(y)):\n",
    "        res.append((y[i] - lrm(a, b, x[i]))**2)\n",
    "    return sum(res) / (len(y) - 2)\n",
    "\n",
    "def s_alpha2(x, var_x, var_residuals):\n",
    "    return ((1 / len(x)) + (np.mean(x)**2) / ((len(x) - 1) * var_x)) * var_residuals\n",
    "\n",
    "def s_beta2(x, var_x, var_residuals):\n",
    "    return (1 / ((len(x) - 1) * var_x)) * var_residuals\n",
    "\n",
    "def matrix_approach(x, y):\n",
    "    design_matrix = np.c_[np.ones((len(x), 1)), x]\n",
    "    X = design_matrix\n",
    "    Y = np.array(y)\n",
    "    Xt = X.T\n",
    "\n",
    "    B = np.linalg.inv(Xt.dot(X)).dot(Xt).dot(Y)\n",
    "    return B"
   ]
  },
  {
   "cell_type": "markdown",
   "metadata": {},
   "source": [
    "### Model"
   ]
  },
  {
   "cell_type": "code",
   "execution_count": 4,
   "metadata": {},
   "outputs": [
    {
     "name": "stdout",
     "output_type": "stream",
     "text": [
      "--------- Formeln ----------\n",
      "alpha: 0.24565217391304284, beta: 0.748913043478261\n",
      "y = 0.25 + 0.75x\n",
      "--------- Matrix ----------\n",
      "alpha: 0.24565217391304284, beta: 0.748913043478261\n",
      "y = 0.75x 0.25\n"
     ]
    }
   ],
   "source": [
    "x_mean = np.mean(xi)\n",
    "y_mean = np.mean(yi)\n",
    "x_var = variance(xi)\n",
    "y_var = variance(yi)\n",
    "s_xy = np.cov(xi, yi)[1][0]\n",
    "\n",
    "# Formeln\n",
    "beta = s_xy / x_var\n",
    "alpha = y_mean - beta * x_mean\n",
    "\n",
    "a, b = matrix_approach(xi, yi)\n",
    "\n",
    "print(\"--------- Formeln ----------\")\n",
    "print(f\"alpha: {alpha}, beta: {beta}\")\n",
    "print(f\"y = {alpha:.2f} + {beta:.2f}x\")\n",
    "\n",
    "\n",
    "print(\"--------- Matrix ----------\")\n",
    "print(f\"alpha: {alpha}, beta: {beta}\")\n",
    "print(f\"y = {b:.2f}x {a:.2f}\")"
   ]
  },
  {
   "cell_type": "markdown",
   "metadata": {},
   "source": [
    "### Konfidenzintervalle"
   ]
  },
  {
   "cell_type": "code",
   "execution_count": 5,
   "metadata": {},
   "outputs": [
    {
     "name": "stdout",
     "output_type": "stream",
     "text": [
      "alpha: 0.24565217391304284, s_alpha: 0.6144502205419031, I_alpha: [-2.248931742816872, 2.7402360906429575]\n",
      "beta: 0.748913043478261, s_beta: 0.017861925015752997, I_beta: [0.32359001584228986, 1.1742360711142323]\n"
     ]
    }
   ],
   "source": [
    "t3_975 = 3.1824 # error 0.05\n",
    "\n",
    "s_alpha =  s_alpha2(xi, x_var, residuals_var(yi, xi, alpha, beta))\n",
    "I_alpha = [alpha - t3_975 * s_alpha**0.5, alpha + t3_975 * s_alpha**0.5]\n",
    "print(f\"alpha: {alpha}, s_alpha: {s_alpha}, I_alpha: {I_alpha}\")\n",
    "\n",
    "s_beta2 = s_beta2(xi, x_var, residuals_var(yi, xi, alpha, beta))\n",
    "I_beta = [beta - t3_975 * s_beta2**0.5, beta + t3_975 * s_beta2**0.5]\n",
    "print(f\"beta: {beta}, s_beta: {s_beta2}, I_beta: {I_beta}\")"
   ]
  },
  {
   "cell_type": "code",
   "execution_count": 8,
   "metadata": {},
   "outputs": [
    {
     "data": {
      "image/png": "[encoded data removed]",
      "text/plain": [
       "<Figure size 640x480 with 1 Axes>"
      ]
     },
     "metadata": {},
     "output_type": "display_data"
    }
   ],
   "source": [
    "def plot(x, y):\n",
    "    plt.scatter(x, y, s=10, label=\"Original Data\")\n",
    "    plt.plot(x, [lrm(a, b, xi) for xi in x], color='red', label=\"LRM\")\n",
    "    plt.xlabel('x')\n",
    "    plt.ylabel('y')\n",
    "    plt.title('Data')\n",
    "    plt.grid()\n",
    "    plt.legend()\n",
    "    plt.show()\n",
    "    \n",
    "plot(xi, yi)"
   ]
  },
  {
   "cell_type": "markdown",
   "metadata": {},
   "source": [
    "## Multiple Lineare Regression"
   ]
  },
  {
   "cell_type": "code",
   "execution_count": 41,
   "metadata": {},
   "outputs": [],
   "source": [
    "import pandas as pd\n",
    "from sklearn import linear_model\n",
    "\n",
    "df = pd.read_csv('data-2.csv')"
   ]
  },
  {
   "cell_type": "markdown",
   "metadata": {},
   "source": [
    "### Sklearn"
   ]
  },
  {
   "cell_type": "code",
   "execution_count": 69,
   "metadata": {},
   "outputs": [
    {
     "name": "stdout",
     "output_type": "stream",
     "text": [
      "beta0: 79.694719, beta1: 0.007551, beta2: 0.007805\n",
      "[114.75968007]\n"
     ]
    },
    {
     "name": "stderr",
     "output_type": "stream",
     "text": [
      "/Library/Frameworks/Python.framework/Versions/3.9/lib/python3.9/site-packages/sklearn/base.py:439: UserWarning: X does not have valid feature names, but LinearRegression was fitted with feature names\n",
      "  warnings.warn(\n"
     ]
    }
   ],
   "source": [
    "X = df[['Weight', 'Volume']]\n",
    "y = df['CO2']\n",
    "\n",
    "regr = linear_model.LinearRegression()\n",
    "regr.fit(X, y)\n",
    "\n",
    "b1, b2 = regr.coef_\n",
    "b0 = regr.intercept_\n",
    "\n",
    "print(f\"beta0: {b0:2f}, beta1: {b1:2f}, beta2: {b2:2f}\")\n",
    "\n",
    "predictedCO2 = regr.predict([[3300, 1300]])\n",
    "\n",
    "print(predictedCO2)"
   ]
  },
  {
   "cell_type": "markdown",
   "metadata": {},
   "source": [
    "### Normalengleichung"
   ]
  },
  {
   "cell_type": "code",
   "execution_count": 70,
   "metadata": {},
   "outputs": [
    {
     "name": "stdout",
     "output_type": "stream",
     "text": [
      "beta0: 79.694719, beta1: 0.007551, beta2: 0.007805\n",
      "107.20873279893105\n"
     ]
    }
   ],
   "source": [
    "x1 = df[\"Weight\"]\n",
    "x2 = df[\"Volume\"]\n",
    "x0 = [1] * len(x1)\n",
    "y = df[\"CO2\"]\n",
    "\n",
    "X = np.c_[x0, x1, x2]\n",
    "\n",
    "def lsg_der_normalen_gleichung(x, y):\n",
    "    X = x\n",
    "    Xt = X.T\n",
    "    Y = np.array(y)\n",
    "\n",
    "    B = np.linalg.inv(Xt.dot(X)).dot(Xt).dot(Y)\n",
    "    return B\n",
    "\n",
    "beta0, beta1, beta2 = lsg_der_normalen_gleichung(X, y)\n",
    "\n",
    "print(f\"beta0: {beta0:2f}, beta1: {beta1:2f}, beta2: {beta2:2f}\")\n",
    "\n",
    "def lrm(x1, x2, beta0, beta1, beta2):\n",
    "    return beta0 + beta1 * x1 + beta2 * x2\n",
    "\n",
    "\n",
    "predictedCO2 = lrm(2300, 1300, beta0, beta1, beta2)\n",
    "print(predictedCO2)"
   ]
  }
 ],
 "metadata": {
  "kernelspec": {
   "display_name": "Python 3",
   "language": "python",
   "name": "python3"
  },
  "language_info": {
   "codemirror_mode": {
    "name": "ipython",
    "version": 3
   },
   "file_extension": ".py",
   "mimetype": "text/x-python",
   "name": "python",
   "nbconvert_exporter": "python",
   "pygments_lexer": "ipython3",
   "version": "3.9.12"
  }
 },
 "nbformat": 4,
 "nbformat_minor": 2
}
